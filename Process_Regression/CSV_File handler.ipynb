{
 "cells": [
  {
   "cell_type": "code",
   "execution_count": 1,
   "id": "dd3a73d3-b27a-486e-a647-55155af38fa6",
   "metadata": {},
   "outputs": [],
   "source": [
    "import pandas as pd\n",
    "import glob\n",
    "import os\n",
    "import numpy as np\n",
    "from datetime import datetime\n",
    "import re"
   ]
  },
  {
   "cell_type": "markdown",
   "id": "9e7cc9ec-5fae-49e0-9c68-7cb96386a0f8",
   "metadata": {},
   "source": [
    "## ETL"
   ]
  },
  {
   "cell_type": "code",
   "execution_count": 3,
   "id": "3b804a02-dab0-4bab-aff0-aab67870d9c9",
   "metadata": {},
   "outputs": [],
   "source": [
    "# get all the raw csv files in a folder (adjust ur path)\n",
    "csv_files = glob.glob(r\"C:\\Users\\Luca-PC\\AppData\\Roaming\\Microsoft\\Windows\\Start Menu\\Programs\\Anaconda3 (64-bit)\\Semester 5\\APP\\Measurements MS200 16g and PCS7 January 2023\\X_Data\\M1.3 10012023 MS200 controlled by pump\\*.csv\")\n",
    "\n",
    "\n",
    "# loop through all files \n",
    "for i,filepath in enumerate(csv_files):\n",
    "    # transformations\n",
    "        df = pd.read_csv(filepath, sep=';', engine='python')\n",
    "        df = df.iloc[:, 1:4]\n",
    "        df = df.truncate(after=511)\n",
    "        df = df[[' x',' y', ' z']].astype(str).astype(int)\n",
    "        df[\"time\"] = datetime.strptime(re.sub(r'|c||_|\\.|a|s|v', \"\", os.path.basename(filepath)), '%Y%m%d%H%M%S') # get date from file name\n",
    "        # safe transformated csv files in a destination file\n",
    "        output_folder = r\"C:\\Users\\Luca-PC\\AppData\\Roaming\\Microsoft\\Windows\\Start Menu\\Programs\\Anaconda3 (64-bit)\\Semester 5\\APP\\pump data\"\n",
    "        output_filepath = os.path.join(output_folder, os.path.basename(filepath))\n",
    "        df.to_csv(output_filepath, sep=\",\" , index=False)"
   ]
  },
  {
   "cell_type": "code",
   "execution_count": 4,
   "id": "de5ab3bd-e7b8-44b4-bcf1-b583fb018e84",
   "metadata": {},
   "outputs": [],
   "source": [
    "import os\n",
    "import glob\n",
    "import pandas as pd\n",
    "\n",
    "# Pfad zum Verzeichnis, das alle CSV-Dateien enthält\n",
    "path = r\"C:\\Users\\Luca-PC\\AppData\\Roaming\\Microsoft\\Windows\\Start Menu\\Programs\\Anaconda3 (64-bit)\\Semester 5\\APP\\pump data\"\n",
    "\n",
    "\n",
    "# Alle CSV-Dateien im Verzeichnis lesen und in eine Liste speichern\n",
    "all_files = glob.glob(os.path.join(path, \"*.csv\"))\n",
    "\n",
    "# Leeres DataFrame erstellen, um alle Daten zu kombinieren\n",
    "combined_csv = pd.DataFrame()\n",
    "\n",
    "# CSV-Dateien nacheinander durchgehen und Daten in das DataFrame einfügen\n",
    "for file in all_files:\n",
    "    df = pd.read_csv(file)\n",
    "    combined_csv = pd.concat([combined_csv, df], ignore_index=True)\n",
    "\n",
    "# Kombinierte CSV-Datei im gleichen Verzeichnis speichern\n",
    "combined_csv.to_csv(os.path.join(path, \"df_pump.csv\"), index=False, encoding='utf-8-sig')\n"
   ]
  },
  {
   "cell_type": "markdown",
   "id": "67d2c851",
   "metadata": {},
   "source": [
    "## Greate label from label file"
   ]
  },
  {
   "cell_type": "code",
   "execution_count": null,
   "id": "6fc33864",
   "metadata": {},
   "outputs": [],
   "source": [
    "df_valve = pd.read_parquet(\"df_pump.parquet\")\n",
    "df_value = pd.read_csv(\"Y_Data.csv\", sep=\";\", low_memory=False, usecols = ['F14002 ValueY','F14002 Time'])\n",
    "df_value['F14002 Time'] = pd.to_datetime(df_value['F14002 Time'])\n",
    "df_value['F14002 Time'] = df_value['F14002 Time'].dt.strftime('%Y-%m-%d %H:%M:%S')\n",
    "df_value['F14002 Time'] =  pd.to_datetime(df_value['F14002 Time'], format='%Y-%m-%d %H:%M:%S')\n",
    "df_value['F14002 ValueY'] = df_value['F14002 ValueY'].str.replace(',', '.')\n",
    "df_value[\"F14002 ValueY\"] = df_value['F14002 ValueY'].astype(float).round(6)\n",
    "df_value.dropna(inplace=True)\n",
    "df_value"
   ]
  },
  {
   "cell_type": "code",
   "execution_count": null,
   "id": "f2324559",
   "metadata": {},
   "outputs": [],
   "source": [
    "df_valve['label']='F14002 ValueY'\n",
    "for i,s in df_value.iterrows():\n",
    "    indx= (df_valve['time'] == s[\"F14002 Time\"])\n",
    "    df_valve.loc[indx,'label']=s['F14002 ValueY']"
   ]
  },
  {
   "cell_type": "code",
   "execution_count": null,
   "id": "0fe018e7",
   "metadata": {},
   "outputs": [],
   "source": [
    "df_valve.to_parquet(\"df_pump.parquet\")"
   ]
  }
 ],
 "metadata": {
  "kernelspec": {
   "display_name": "Python 3 (ipykernel)",
   "language": "python",
   "name": "python3"
  },
  "language_info": {
   "codemirror_mode": {
    "name": "ipython",
    "version": 3
   },
   "file_extension": ".py",
   "mimetype": "text/x-python",
   "name": "python",
   "nbconvert_exporter": "python",
   "pygments_lexer": "ipython3",
   "version": "3.8.8"
  }
 },
 "nbformat": 4,
 "nbformat_minor": 5
}
